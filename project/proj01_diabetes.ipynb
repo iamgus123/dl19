{
  "nbformat": 4,
  "nbformat_minor": 0,
  "metadata": {
    "colab": {
      "provenance": [],
      "authorship_tag": "ABX9TyMvERfar2cUVOUI/A5/PRPJ",
      "include_colab_link": true
    },
    "kernelspec": {
      "name": "python3",
      "display_name": "Python 3"
    },
    "language_info": {
      "name": "python"
    }
  },
  "cells": [
    {
      "cell_type": "markdown",
      "metadata": {
        "id": "view-in-github",
        "colab_type": "text"
      },
      "source": [
        "<a href=\"https://colab.research.google.com/github/iamgus123/dl19/blob/main/project/proj01_diabetes.ipynb\" target=\"_parent\"><img src=\"https://colab.research.google.com/assets/colab-badge.svg\" alt=\"Open In Colab\"/></a>"
      ]
    },
    {
      "cell_type": "markdown",
      "source": [
        "## proj01_diabetes_1_MLP.py"
      ],
      "metadata": {
        "id": "myQ_LgbEpMkC"
      }
    },
    {
      "cell_type": "code",
      "execution_count": null,
      "metadata": {
        "id": "4dmhiFtYo-U7"
      },
      "outputs": [],
      "source": [
        "# -*- coding: utf-8 -*-\n",
        "\"\"\"\n",
        "Created on Mon Apr 17 20:53:59 2023\n",
        "@author: Redwoods\n",
        "\"\"\"\n",
        "\n",
        "from sklearn.datasets import load_diabetes\n",
        "from sklearn.preprocessing import StandardScaler\n",
        "from sklearn.model_selection import train_test_split\n",
        "from sklearn.neural_network import MLPRegressor\n",
        "\n",
        "# Load the diabetes dataset\n",
        "diabetes = load_diabetes()\n",
        "\n",
        "# Preprocess the data\n",
        "X = StandardScaler().fit_transform(diabetes.data)\n",
        "y = diabetes.target\n",
        "\n",
        "# Split the data into training and testing sets\n",
        "X_train, X_test, y_train, y_test = train_test_split(X, y, test_size=0.2, random_state=42)\n",
        "\n",
        "# Create an MLP model\n",
        "mlp = MLPRegressor(hidden_layer_sizes=(16, 8), max_iter=1000)\n",
        "\n",
        "# Train the model\n",
        "mlp.fit(X_train, y_train)\n",
        "\n",
        "# Evaluate the model\n",
        "score = mlp.score(X_test, y_test)\n",
        "print(\"R^2 score:\", score)\n",
        "\n",
        "# R^2 score: 0.46150686623228765, hidden_layer_sizes=(16, 8)\n",
        "# R^2 score: 0.4380976292446448, hidden_layer_sizes=(16, 8)\n",
        "# R^2 score: 0.47201385144961695, hidden_layer_sizes=(100, 50)\n",
        "# R^2 score: 0.48616233328458436, hidden_layer_sizes=(100, 50)"
      ]
    },
    {
      "cell_type": "markdown",
      "source": [
        "## proj01_diabetes_2_DL"
      ],
      "metadata": {
        "id": "H7I-vCC0pLNr"
      }
    },
    {
      "cell_type": "code",
      "source": [
        "# -*- coding: utf-8 -*-\n",
        "\"\"\"\n",
        "Created on Mon Apr 17 20:53:59 2023\n",
        "@author: Redwoods\n",
        "\"\"\"\n",
        "\n",
        "from sklearn.datasets import load_diabetes\n",
        "from sklearn.preprocessing import StandardScaler\n",
        "from sklearn.model_selection import train_test_split\n",
        "from sklearn.metrics import r2_score\n",
        "from keras.models import Sequential\n",
        "from keras.layers import Dense\n",
        "\n",
        "# Load data\n",
        "diabetes = load_diabetes()\n",
        "# Preprocess the data\n",
        "X = StandardScaler().fit_transform(diabetes.data)\n",
        "y = diabetes.target\n",
        "\n",
        "# Split the data into training and testing sets\n",
        "X_train, X_test, y_train, y_test = train_test_split(X, y, test_size=0.2, random_state=42)\n",
        "\n",
        "\n",
        "# Build model\n",
        "model = Sequential()\n",
        "model.add(Dense(16, activation='relu', input_dim=X.shape[1]))\n",
        "model.add(Dense(8, activation='relu'))\n",
        "model.add(Dense(1, activation='linear'))\n",
        "\n",
        "# Compile model\n",
        "model.compile(loss='mse', optimizer='adam')\n",
        "\n",
        "# Train model\n",
        "model.fit(X_train, y_train, epochs=200, batch_size=10, validation_split=0.2)\n",
        "\n",
        "# Evaluate model\n",
        "y_pred = model.predict(X_test)  #, y_test)\n",
        "score = r2_score(y_test, y_pred)\n",
        "print(\"R^2 score:\", score)\n",
        "# R^2 score: 0.4121845510590546\n",
        "# R^2 score: 0.4787058293145606\n",
        "# R^2 score: 0.5015287710964408"
      ],
      "metadata": {
        "id": "8oq0LLR_pHRb"
      },
      "execution_count": null,
      "outputs": []
    }
  ]
}