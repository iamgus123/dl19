{
  "nbformat": 4,
  "nbformat_minor": 0,
  "metadata": {
    "colab": {
      "provenance": [],
      "collapsed_sections": [
        "b8jPYW_iUnPi"
      ],
      "authorship_tag": "ABX9TyP5K3VebnTZH4Hbx2pYsoGY",
      "include_colab_link": true
    },
    "kernelspec": {
      "name": "python3",
      "display_name": "Python 3"
    },
    "language_info": {
      "name": "python"
    }
  },
  "cells": [
    {
      "cell_type": "markdown",
      "metadata": {
        "id": "view-in-github",
        "colab_type": "text"
      },
      "source": [
        "<a href=\"https://colab.research.google.com/github/iamgus123/dl19/blob/main/notebook/ch02_numpy.ipynb\" target=\"_parent\"><img src=\"https://colab.research.google.com/assets/colab-badge.svg\" alt=\"Open In Colab\"/></a>"
      ]
    },
    {
      "cell_type": "markdown",
      "source": [
        "#ch02_numpy.ipynb\n",
        "- numpy 공부"
      ],
      "metadata": {
        "id": "uTYoogegJCni"
      }
    },
    {
      "cell_type": "code",
      "execution_count": 7,
      "metadata": {
        "id": "0vzOBouwI995"
      },
      "outputs": [],
      "source": [
        "# chap02 - numpy\n",
        "import numpy as np\n"
      ]
    },
    {
      "cell_type": "code",
      "source": [
        "# ndarray\n",
        "a = np.array([1, 2, 3])\n",
        "print(a[0])\n",
        "a, type(a)\n"
      ],
      "metadata": {
        "colab": {
          "base_uri": "https://localhost:8080/"
        },
        "id": "16fCgpXZJTuy",
        "outputId": "ff6c0ae4-a5a3-40b5-e3a1-71ec0f58ab90"
      },
      "execution_count": 6,
      "outputs": [
        {
          "output_type": "stream",
          "name": "stdout",
          "text": [
            "1\n"
          ]
        },
        {
          "output_type": "execute_result",
          "data": {
            "text/plain": [
              "(array([1, 2, 3]), numpy.ndarray)"
            ]
          },
          "metadata": {},
          "execution_count": 6
        }
      ]
    },
    {
      "cell_type": "code",
      "source": [
        "b = np.array([[1, 2, 3], [4, 5, 6], [7, 8, 9]])\n",
        "\n",
        "print(b)\n",
        "\n",
        "print(b[0][2])"
      ],
      "metadata": {
        "colab": {
          "base_uri": "https://localhost:8080/"
        },
        "id": "q5F2rIcSJq6z",
        "outputId": "3bc5ff78-8cbf-46e4-9d8c-539c35f133d9"
      },
      "execution_count": 14,
      "outputs": [
        {
          "output_type": "stream",
          "name": "stdout",
          "text": [
            "[[1 2 3]\n",
            " [4 5 6]\n",
            " [7 8 9]]\n",
            "3\n"
          ]
        }
      ]
    },
    {
      "cell_type": "code",
      "source": [
        "a = np.array([[ 0, 1, 2],\n",
        " \t\t[ 3, 4, 5],\n",
        "\t\t[ 6, 7, 8]])\n",
        "\n",
        "a.shape, a.ndim, a.dtype, a.itemsize, a.size\n"
      ],
      "metadata": {
        "colab": {
          "base_uri": "https://localhost:8080/"
        },
        "id": "hR6irokzKVK8",
        "outputId": "617b8438-13b6-498a-a99d-1e58e6ff5e51"
      },
      "execution_count": 8,
      "outputs": [
        {
          "output_type": "execute_result",
          "data": {
            "text/plain": [
              "((3, 3), 2, dtype('int64'), 8, 9)"
            ]
          },
          "metadata": {},
          "execution_count": 8
        }
      ]
    },
    {
      "cell_type": "code",
      "source": [
        "np.zeros( (3, 4) )\t"
      ],
      "metadata": {
        "colab": {
          "base_uri": "https://localhost:8080/"
        },
        "id": "QNfrhyeoKXL0",
        "outputId": "8d2a4ac3-9518-4a6b-99ca-019ccd65c43c"
      },
      "execution_count": 11,
      "outputs": [
        {
          "output_type": "execute_result",
          "data": {
            "text/plain": [
              "array([[0., 0., 0., 0.],\n",
              "       [0., 0., 0., 0.],\n",
              "       [0., 0., 0., 0.]])"
            ]
          },
          "metadata": {},
          "execution_count": 11
        }
      ]
    },
    {
      "cell_type": "code",
      "source": [
        "np.ones( (3, 4), dtype=np.int32 )"
      ],
      "metadata": {
        "colab": {
          "base_uri": "https://localhost:8080/"
        },
        "id": "hXlfutogK9hk",
        "outputId": "d95de2d7-5c7f-4085-a748-6317e7836241"
      },
      "execution_count": 10,
      "outputs": [
        {
          "output_type": "execute_result",
          "data": {
            "text/plain": [
              "array([[1, 1, 1, 1],\n",
              "       [1, 1, 1, 1],\n",
              "       [1, 1, 1, 1]], dtype=int32)"
            ]
          },
          "metadata": {},
          "execution_count": 10
        }
      ]
    },
    {
      "cell_type": "code",
      "source": [
        "np.eye(3)"
      ],
      "metadata": {
        "colab": {
          "base_uri": "https://localhost:8080/"
        },
        "id": "X9x2nUh8K_-U",
        "outputId": "9633a5c5-7afe-4566-f727-f87a4b110c24"
      },
      "execution_count": 12,
      "outputs": [
        {
          "output_type": "execute_result",
          "data": {
            "text/plain": [
              "array([[1., 0., 0.],\n",
              "       [0., 1., 0.],\n",
              "       [0., 0., 1.]])"
            ]
          },
          "metadata": {},
          "execution_count": 12
        }
      ]
    },
    {
      "cell_type": "code",
      "source": [
        "x = np.ones(5, dtype=np.int64)\n",
        "x"
      ],
      "metadata": {
        "colab": {
          "base_uri": "https://localhost:8080/"
        },
        "id": "eA_5PM7fLCu0",
        "outputId": "978f5225-5bb3-41e7-d6df-222950ffd8b3"
      },
      "execution_count": 15,
      "outputs": [
        {
          "output_type": "execute_result",
          "data": {
            "text/plain": [
              "array([1, 1, 1, 1, 1])"
            ]
          },
          "metadata": {},
          "execution_count": 15
        }
      ]
    },
    {
      "cell_type": "code",
      "source": [
        "print(np.arange(5))\n",
        "\n",
        "print(np.arange(1, 6))\n",
        "\n",
        "np.arange(1, 10, 2)\n"
      ],
      "metadata": {
        "colab": {
          "base_uri": "https://localhost:8080/"
        },
        "id": "rLMh4H6dLEEc",
        "outputId": "9516d096-5731-4123-fd5e-cd4e079f57a1"
      },
      "execution_count": 16,
      "outputs": [
        {
          "output_type": "stream",
          "name": "stdout",
          "text": [
            "[0 1 2 3 4]\n",
            "[1 2 3 4 5]\n"
          ]
        },
        {
          "output_type": "execute_result",
          "data": {
            "text/plain": [
              "array([1, 3, 5, 7, 9])"
            ]
          },
          "metadata": {},
          "execution_count": 16
        }
      ]
    },
    {
      "cell_type": "code",
      "source": [
        "np.linspace(0, 10, 101)\n"
      ],
      "metadata": {
        "colab": {
          "base_uri": "https://localhost:8080/"
        },
        "id": "pw--Uhj8MDTN",
        "outputId": "25cafcf7-84e1-43a7-d63f-e656eb1432f0"
      },
      "execution_count": 18,
      "outputs": [
        {
          "output_type": "execute_result",
          "data": {
            "text/plain": [
              "array([ 0. ,  0.1,  0.2,  0.3,  0.4,  0.5,  0.6,  0.7,  0.8,  0.9,  1. ,\n",
              "        1.1,  1.2,  1.3,  1.4,  1.5,  1.6,  1.7,  1.8,  1.9,  2. ,  2.1,\n",
              "        2.2,  2.3,  2.4,  2.5,  2.6,  2.7,  2.8,  2.9,  3. ,  3.1,  3.2,\n",
              "        3.3,  3.4,  3.5,  3.6,  3.7,  3.8,  3.9,  4. ,  4.1,  4.2,  4.3,\n",
              "        4.4,  4.5,  4.6,  4.7,  4.8,  4.9,  5. ,  5.1,  5.2,  5.3,  5.4,\n",
              "        5.5,  5.6,  5.7,  5.8,  5.9,  6. ,  6.1,  6.2,  6.3,  6.4,  6.5,\n",
              "        6.6,  6.7,  6.8,  6.9,  7. ,  7.1,  7.2,  7.3,  7.4,  7.5,  7.6,\n",
              "        7.7,  7.8,  7.9,  8. ,  8.1,  8.2,  8.3,  8.4,  8.5,  8.6,  8.7,\n",
              "        8.8,  8.9,  9. ,  9.1,  9.2,  9.3,  9.4,  9.5,  9.6,  9.7,  9.8,\n",
              "        9.9, 10. ])"
            ]
          },
          "metadata": {},
          "execution_count": 18
        }
      ]
    },
    {
      "cell_type": "code",
      "source": [
        "# array\n",
        "arr = np.array([2, 1, 5, 3, 7, 4, 6, 8])\n",
        "\n",
        "np.sort(arr)\n"
      ],
      "metadata": {
        "colab": {
          "base_uri": "https://localhost:8080/"
        },
        "id": "agErDJrbJZtz",
        "outputId": "c1478efe-5904-4b5d-a3f9-75bd4257cc51"
      },
      "execution_count": 19,
      "outputs": [
        {
          "output_type": "execute_result",
          "data": {
            "text/plain": [
              "array([1, 2, 3, 4, 5, 6, 7, 8])"
            ]
          },
          "metadata": {},
          "execution_count": 19
        }
      ]
    },
    {
      "cell_type": "code",
      "source": [
        "# 배열 합치기\n",
        "x = np.array([[1, 2], [3, 4]])\n",
        "\n",
        "y = np.array([[5, 6], [7, 8]])\n",
        "x, y"
      ],
      "metadata": {
        "colab": {
          "base_uri": "https://localhost:8080/"
        },
        "id": "anLcavg_Jabi",
        "outputId": "31351081-7997-498d-9b5b-58c515dcf70f"
      },
      "execution_count": 21,
      "outputs": [
        {
          "output_type": "execute_result",
          "data": {
            "text/plain": [
              "(array([[1, 2],\n",
              "        [3, 4]]), array([[5, 6],\n",
              "        [7, 8]]))"
            ]
          },
          "metadata": {},
          "execution_count": 21
        }
      ]
    },
    {
      "cell_type": "code",
      "source": [
        "#np.concatenate((x, y), axis=0)\n",
        "# np.concatenate((x, y), axis=1)\n",
        "\n",
        "# np.vstack((x, y))\n",
        "\n",
        "np.hstack((x, y))\n"
      ],
      "metadata": {
        "colab": {
          "base_uri": "https://localhost:8080/"
        },
        "id": "Kxr5spUMMuVW",
        "outputId": "70652217-5d37-46cf-fc9d-6897cd8a120c"
      },
      "execution_count": 24,
      "outputs": [
        {
          "output_type": "execute_result",
          "data": {
            "text/plain": [
              "array([[1, 2, 5, 6],\n",
              "       [3, 4, 7, 8]])"
            ]
          },
          "metadata": {},
          "execution_count": 24
        }
      ]
    },
    {
      "cell_type": "code",
      "source": [
        "# reshape\n",
        "a = np.arange(12)\n",
        "\n",
        "a.shape"
      ],
      "metadata": {
        "colab": {
          "base_uri": "https://localhost:8080/"
        },
        "id": "WukukGWJJbxy",
        "outputId": "3196da3d-cdbc-45b5-9993-a501e6754ac3"
      },
      "execution_count": 25,
      "outputs": [
        {
          "output_type": "execute_result",
          "data": {
            "text/plain": [
              "(12,)"
            ]
          },
          "metadata": {},
          "execution_count": 25
        }
      ]
    },
    {
      "cell_type": "code",
      "source": [
        "#a.reshape(3, 4)\n",
        "\n",
        "#a.reshape(6, -1)\n",
        "\n",
        "a.reshape(-1, 6)"
      ],
      "metadata": {
        "colab": {
          "base_uri": "https://localhost:8080/"
        },
        "id": "B0bGAyjBNTQW",
        "outputId": "10397291-6608-47b3-dd6d-87244bbb7557"
      },
      "execution_count": 27,
      "outputs": [
        {
          "output_type": "execute_result",
          "data": {
            "text/plain": [
              "array([[ 0,  1,  2,  3,  4,  5],\n",
              "       [ 6,  7,  8,  9, 10, 11]])"
            ]
          },
          "metadata": {},
          "execution_count": 27
        }
      ]
    },
    {
      "cell_type": "code",
      "source": [
        "array = np.arange(30).reshape(-1, 10)\n",
        "\n",
        "array , array.shape"
      ],
      "metadata": {
        "colab": {
          "base_uri": "https://localhost:8080/"
        },
        "id": "j-asvxjuNlK3",
        "outputId": "aace4fa8-756c-4f96-9093-fdf240d1add2"
      },
      "execution_count": 28,
      "outputs": [
        {
          "output_type": "execute_result",
          "data": {
            "text/plain": [
              "(array([[ 0,  1,  2,  3,  4,  5,  6,  7,  8,  9],\n",
              "        [10, 11, 12, 13, 14, 15, 16, 17, 18, 19],\n",
              "        [20, 21, 22, 23, 24, 25, 26, 27, 28, 29]]), (3, 10))"
            ]
          },
          "metadata": {},
          "execution_count": 28
        }
      ]
    },
    {
      "cell_type": "code",
      "source": [
        "arr1, arr2 = np.split(array, [3], axis=1)\n",
        "\n",
        "print(arr1)\n",
        "\n",
        "print(arr2)"
      ],
      "metadata": {
        "colab": {
          "base_uri": "https://localhost:8080/"
        },
        "id": "TWvdK19mOC4v",
        "outputId": "b49b6933-4875-4bd5-d19e-1917e01303a7"
      },
      "execution_count": 30,
      "outputs": [
        {
          "output_type": "stream",
          "name": "stdout",
          "text": [
            "[[ 0  1  2]\n",
            " [10 11 12]\n",
            " [20 21 22]]\n",
            "[[ 3  4  5  6  7  8  9]\n",
            " [13 14 15 16 17 18 19]\n",
            " [23 24 25 26 27 28 29]]\n"
          ]
        }
      ]
    },
    {
      "cell_type": "code",
      "source": [
        "# 차원 확장\n",
        "a = np.array([1, 2, 3, 4, 5, 6])\n",
        "\n",
        "a.shape"
      ],
      "metadata": {
        "colab": {
          "base_uri": "https://localhost:8080/"
        },
        "id": "W-UUjwkjJcl6",
        "outputId": "08cd6a96-b49f-4d54-c1f8-e9174333cfe9"
      },
      "execution_count": 31,
      "outputs": [
        {
          "output_type": "execute_result",
          "data": {
            "text/plain": [
              "(6,)"
            ]
          },
          "metadata": {},
          "execution_count": 31
        }
      ]
    },
    {
      "cell_type": "code",
      "source": [
        "a1 = a[np.newaxis, :]\n",
        "\n",
        "a1, a1.shape"
      ],
      "metadata": {
        "colab": {
          "base_uri": "https://localhost:8080/"
        },
        "id": "PO6pYjhCOXvn",
        "outputId": "2d19fb05-0081-4e7e-88ec-718fc0eb6835"
      },
      "execution_count": 32,
      "outputs": [
        {
          "output_type": "execute_result",
          "data": {
            "text/plain": [
              "(array([[1, 2, 3, 4, 5, 6]]), (1, 6))"
            ]
          },
          "metadata": {},
          "execution_count": 32
        }
      ]
    },
    {
      "cell_type": "code",
      "source": [
        "a2 = a[:, np.newaxis]\n",
        "\n",
        "a2, a2.shape"
      ],
      "metadata": {
        "colab": {
          "base_uri": "https://localhost:8080/"
        },
        "id": "QqIqPcfeOmL_",
        "outputId": "4e3ad517-0691-4721-ac7b-c373a2c3e979"
      },
      "execution_count": 34,
      "outputs": [
        {
          "output_type": "execute_result",
          "data": {
            "text/plain": [
              "(array([[1],\n",
              "        [2],\n",
              "        [3],\n",
              "        [4],\n",
              "        [5],\n",
              "        [6]]), (6, 1))"
            ]
          },
          "metadata": {},
          "execution_count": 34
        }
      ]
    },
    {
      "cell_type": "markdown",
      "source": [
        "### numpy - indexing & slicing"
      ],
      "metadata": {
        "id": "rXl0O9D5O1H_"
      }
    },
    {
      "cell_type": "code",
      "source": [
        "# indexing & slicing\n",
        "ages = np.array([18, 19, 25, 30, 28])\n",
        "\n",
        "ages[1:3] , ages[:2] "
      ],
      "metadata": {
        "colab": {
          "base_uri": "https://localhost:8080/"
        },
        "id": "lbh21E5hJdRq",
        "outputId": "01b7cf83-6935-4f0b-9ccb-d612ed62721e"
      },
      "execution_count": 36,
      "outputs": [
        {
          "output_type": "execute_result",
          "data": {
            "text/plain": [
              "(array([19, 25]), array([18, 19]))"
            ]
          },
          "metadata": {},
          "execution_count": 36
        }
      ]
    },
    {
      "cell_type": "code",
      "source": [
        "y = ages > 20\n",
        "\n",
        "y, ages[ ages > 20 ]"
      ],
      "metadata": {
        "colab": {
          "base_uri": "https://localhost:8080/"
        },
        "id": "2AHmWwSPO-Mf",
        "outputId": "34bdb861-fce6-4053-e6f4-c65160c693d4"
      },
      "execution_count": 38,
      "outputs": [
        {
          "output_type": "execute_result",
          "data": {
            "text/plain": [
              "(array([False, False,  True,  True,  True]), array([25, 30, 28]))"
            ]
          },
          "metadata": {},
          "execution_count": 38
        }
      ]
    },
    {
      "cell_type": "code",
      "source": [
        "# 인덱싱\n",
        "a = np.array([[1, 2, 3], [4, 5, 6], [7, 8, 9]])\n",
        "\n",
        "print(a[0, 2])\n",
        "\n",
        "a[0, 0] = 12\n",
        "\n",
        "a"
      ],
      "metadata": {
        "colab": {
          "base_uri": "https://localhost:8080/"
        },
        "id": "W--0xPODJeEL",
        "outputId": "23ead787-054d-49b7-989f-216ba7f6d6ed"
      },
      "execution_count": 42,
      "outputs": [
        {
          "output_type": "stream",
          "name": "stdout",
          "text": [
            "3\n"
          ]
        },
        {
          "output_type": "execute_result",
          "data": {
            "text/plain": [
              "array([[12,  2,  3],\n",
              "       [ 4,  5,  6],\n",
              "       [ 7,  8,  9]])"
            ]
          },
          "metadata": {},
          "execution_count": 42
        }
      ]
    },
    {
      "cell_type": "code",
      "source": [
        "# 슬라이싱\n",
        "a = np.array([[1, 2, 3], [4, 5, 6], [7, 8, 9]])\n",
        "\n",
        "a[0:2, 1:3]"
      ],
      "metadata": {
        "colab": {
          "base_uri": "https://localhost:8080/"
        },
        "id": "1YFdemRYJeuT",
        "outputId": "25285538-61e7-4003-ec71-c68a5a98ed90"
      },
      "execution_count": 40,
      "outputs": [
        {
          "output_type": "execute_result",
          "data": {
            "text/plain": [
              "array([[2, 3],\n",
              "       [5, 6]])"
            ]
          },
          "metadata": {},
          "execution_count": 40
        }
      ]
    },
    {
      "cell_type": "markdown",
      "source": [
        "### numpy 연산\n",
        "- elementivewise operation\n",
        "- vertorwise operation\n"
      ],
      "metadata": {
        "id": "HgMXgNjkQFen"
      }
    },
    {
      "cell_type": "code",
      "source": [
        "# operation of arrays\n",
        "arr1 = np.array([[1, 2], [3, 4], [5, 6]])\n",
        "\n",
        "arr2 = np.array([[1, 1], [1, 1], [1, 1]])\n",
        "\n",
        "result = arr1 + arr2\n",
        "\n",
        "result"
      ],
      "metadata": {
        "colab": {
          "base_uri": "https://localhost:8080/"
        },
        "id": "PRLbAU7EJfLS",
        "outputId": "fbc34c95-cf00-4d24-e41f-38990a0e4d4d"
      },
      "execution_count": 43,
      "outputs": [
        {
          "output_type": "execute_result",
          "data": {
            "text/plain": [
              "array([[2, 3],\n",
              "       [4, 5],\n",
              "       [6, 7]])"
            ]
          },
          "metadata": {},
          "execution_count": 43
        }
      ]
    },
    {
      "cell_type": "markdown",
      "source": [
        "### 브로드케스팅(broadcasting)\n",
        "\n"
      ],
      "metadata": {
        "id": "MGsAJWGkQeXI"
      }
    },
    {
      "cell_type": "code",
      "source": [
        "miles = np.array([1, 2, 3])\n",
        "\n",
        "result = miles * 1.6\n",
        "\n",
        "result"
      ],
      "metadata": {
        "colab": {
          "base_uri": "https://localhost:8080/"
        },
        "id": "jSwxghnFQM7w",
        "outputId": "04a86e5d-7044-432b-a032-a95394354a7c"
      },
      "execution_count": 45,
      "outputs": [
        {
          "output_type": "execute_result",
          "data": {
            "text/plain": [
              "array([1.6, 3.2, 4.8])"
            ]
          },
          "metadata": {},
          "execution_count": 45
        }
      ]
    },
    {
      "cell_type": "code",
      "source": [
        "# elementwise multiplication\n",
        "arr1 = np.array([[1, 2], [3, 4], [5, 6]])\n",
        "\n",
        "arr2 = np.array([[2, 2], [2, 2], [2, 2]])\n",
        "\n",
        "result = arr1 * arr2\n",
        "\n",
        "result"
      ],
      "metadata": {
        "colab": {
          "base_uri": "https://localhost:8080/"
        },
        "id": "2325o1XqQsoY",
        "outputId": "de8af9ee-1593-427f-93b8-68449acbefbf"
      },
      "execution_count": 44,
      "outputs": [
        {
          "output_type": "execute_result",
          "data": {
            "text/plain": [
              "array([[ 2,  4],\n",
              "       [ 6,  8],\n",
              "       [10, 12]])"
            ]
          },
          "metadata": {},
          "execution_count": 44
        }
      ]
    },
    {
      "cell_type": "code",
      "source": [
        "# vertorwise multiplication\n",
        "arr1 = np.array([[1, 2, 3], [4, 5, 6], [7, 8, 9]])\n",
        "\n",
        "arr2 = np.array([[2, 2], [2, 2], [2, 2]])\n",
        "\n",
        "result = arr1 @ arr2\n",
        "\n",
        "result"
      ],
      "metadata": {
        "colab": {
          "base_uri": "https://localhost:8080/"
        },
        "id": "UY4xr6BGQ1ZA",
        "outputId": "3906d25c-b556-469f-e6f7-a5ee36fc90ce"
      },
      "execution_count": 48,
      "outputs": [
        {
          "output_type": "execute_result",
          "data": {
            "text/plain": [
              "array([[12, 12],\n",
              "       [30, 30],\n",
              "       [48, 48]])"
            ]
          },
          "metadata": {},
          "execution_count": 48
        }
      ]
    },
    {
      "cell_type": "code",
      "source": [
        "arr1.dot(arr2)"
      ],
      "metadata": {
        "colab": {
          "base_uri": "https://localhost:8080/"
        },
        "id": "dx4Ks1_IRTFI",
        "outputId": "bf469821-3ad2-48ca-aa33-3103b35963ec"
      },
      "execution_count": 47,
      "outputs": [
        {
          "output_type": "execute_result",
          "data": {
            "text/plain": [
              "array([[12, 12],\n",
              "       [30, 30],\n",
              "       [48, 48]])"
            ]
          },
          "metadata": {},
          "execution_count": 47
        }
      ]
    },
    {
      "cell_type": "code",
      "source": [
        "A = np.array([0, 1, 2, 3])\n",
        "\n",
        "10 * np.sin(A)\n",
        "\n",
        "a = np.array([[1, 2, 3], [4, 5, 6], [7, 8, 9]])\n",
        "\n",
        "a.sum(), a.min(), a.max()"
      ],
      "metadata": {
        "colab": {
          "base_uri": "https://localhost:8080/"
        },
        "id": "k-oZ5UjbQ5nq",
        "outputId": "8e998130-df74-4a14-ebf0-0f53e6dc5c09"
      },
      "execution_count": 50,
      "outputs": [
        {
          "output_type": "execute_result",
          "data": {
            "text/plain": [
              "(45, 1, 9)"
            ]
          },
          "metadata": {},
          "execution_count": 50
        }
      ]
    },
    {
      "cell_type": "code",
      "source": [
        "a.argmin(), a.argmax()"
      ],
      "metadata": {
        "colab": {
          "base_uri": "https://localhost:8080/"
        },
        "id": "L4vV7ebDRpPp",
        "outputId": "c1e80aa3-6d52-40ca-c145-7d6cab6b6561"
      },
      "execution_count": 52,
      "outputs": [
        {
          "output_type": "execute_result",
          "data": {
            "text/plain": [
              "(0, 8)"
            ]
          },
          "metadata": {},
          "execution_count": 52
        }
      ]
    },
    {
      "cell_type": "code",
      "source": [
        "scores = np.array([[99, 93, 60], [98, 82, 93],\n",
        "               [93, 65, 81], [78, 82, 81]])    \n",
        "\n",
        "scores.mean(), scores.mean(axis=0), scores.mean(axis=1)"
      ],
      "metadata": {
        "colab": {
          "base_uri": "https://localhost:8080/"
        },
        "id": "mxMvwIAwRboh",
        "outputId": "138f3a32-4161-46e9-9bc4-1a017b83c8b7"
      },
      "execution_count": 54,
      "outputs": [
        {
          "output_type": "execute_result",
          "data": {
            "text/plain": [
              "(83.75,\n",
              " array([92.  , 80.5 , 78.75]),\n",
              " array([84.        , 91.        , 79.66666667, 80.33333333]))"
            ]
          },
          "metadata": {},
          "execution_count": 54
        }
      ]
    },
    {
      "cell_type": "markdown",
      "source": [
        "### 무작위수 배열\n",
        "\n"
      ],
      "metadata": {
        "id": "CuXPChkOSvGJ"
      }
    },
    {
      "cell_type": "code",
      "source": [
        "# random numbers\n",
        "np.random.seed(100)\n",
        "\n",
        "# np.random.rand(5)\n",
        "\n",
        "# np.random.rand(5, 3)\n",
        "\n",
        "# np.random.randn(5)\n",
        "\n",
        "np.random.randn(5, 4)"
      ],
      "metadata": {
        "colab": {
          "base_uri": "https://localhost:8080/"
        },
        "id": "0Fp4g9I1JhAy",
        "outputId": "25a88ee9-d16c-4366-fcf8-cdd10cadc127"
      },
      "execution_count": 57,
      "outputs": [
        {
          "output_type": "execute_result",
          "data": {
            "text/plain": [
              "array([[-1.74976547,  0.3426804 ,  1.1530358 , -0.25243604],\n",
              "       [ 0.98132079,  0.51421884,  0.22117967, -1.07004333],\n",
              "       [-0.18949583,  0.25500144, -0.45802699,  0.43516349],\n",
              "       [-0.58359505,  0.81684707,  0.67272081, -0.10441114],\n",
              "       [-0.53128038,  1.02973269, -0.43813562, -1.11831825]])"
            ]
          },
          "metadata": {},
          "execution_count": 57
        }
      ]
    },
    {
      "cell_type": "markdown",
      "source": [
        "### [DIY]\n",
        "- 컬러 이미지 100장을 무작위로 생성\n",
        "- 이미지 크기는 28 X 28\n",
        "\n"
      ],
      "metadata": {
        "id": "C4t31gdhTVjR"
      }
    },
    {
      "cell_type": "code",
      "source": [
        "image100 = np.random.randn(100, 28, 28, 3)\n",
        "image100.shape"
      ],
      "metadata": {
        "colab": {
          "base_uri": "https://localhost:8080/"
        },
        "id": "K9wfv4qRTrbP",
        "outputId": "3a1204f1-f62c-46c8-93a6-9870d1dcde16"
      },
      "execution_count": 58,
      "outputs": [
        {
          "output_type": "execute_result",
          "data": {
            "text/plain": [
              "(100, 28, 28, 3)"
            ]
          },
          "metadata": {},
          "execution_count": 58
        }
      ]
    },
    {
      "cell_type": "code",
      "source": [
        "m, sigma = 10, 2\n",
        "\n",
        "m + sigma*np.random.randn(5)"
      ],
      "metadata": {
        "colab": {
          "base_uri": "https://localhost:8080/"
        },
        "id": "oDRU3fijS1XZ",
        "outputId": "33ac756e-4352-4e3b-8085-39eb4f227edc"
      },
      "execution_count": 62,
      "outputs": [
        {
          "output_type": "execute_result",
          "data": {
            "text/plain": [
              "array([10.23501824,  6.66182784,  9.41087491,  9.3825726 ,  7.7955727 ])"
            ]
          },
          "metadata": {},
          "execution_count": 62
        }
      ]
    },
    {
      "cell_type": "code",
      "source": [
        "mu, sigma = 0, 0.1 \t# 평균과 표준 편차\n",
        "\n",
        "np.random.normal(mu, sigma, 5)"
      ],
      "metadata": {
        "colab": {
          "base_uri": "https://localhost:8080/"
        },
        "id": "lLCcmFgqVJyC",
        "outputId": "93ae8da0-094d-46aa-d84e-279b5884c671"
      },
      "execution_count": 63,
      "outputs": [
        {
          "output_type": "execute_result",
          "data": {
            "text/plain": [
              "array([-0.0458193 , -0.09263837, -0.12386036, -0.08574996, -0.04396662])"
            ]
          },
          "metadata": {},
          "execution_count": 63
        }
      ]
    },
    {
      "cell_type": "markdown",
      "source": [
        "## np.unique()"
      ],
      "metadata": {
        "id": "njw6zOzeVOHp"
      }
    },
    {
      "cell_type": "code",
      "source": [
        "# unique()\n",
        "a = np.array([11, 11, 12, 13, 14, 15, 16, 17, 12, 13, 11, 14, 18, 19, 20])\n",
        "a.size\n",
        "unique_values = np.unique(a)\n",
        "\n",
        "unique_values"
      ],
      "metadata": {
        "colab": {
          "base_uri": "https://localhost:8080/"
        },
        "id": "DuvlojXFJh-i",
        "outputId": "4f3c09ec-06d6-4075-d530-aa768b68fd2c"
      },
      "execution_count": 64,
      "outputs": [
        {
          "output_type": "execute_result",
          "data": {
            "text/plain": [
              "array([11, 12, 13, 14, 15, 16, 17, 18, 19, 20])"
            ]
          },
          "metadata": {},
          "execution_count": 64
        }
      ]
    },
    {
      "cell_type": "code",
      "source": [
        "uv, ui = np.unique(a, return_index=True)\n",
        "uv,ui"
      ],
      "metadata": {
        "colab": {
          "base_uri": "https://localhost:8080/"
        },
        "id": "kwT1-DEKVqup",
        "outputId": "0d54bcfd-21dc-4328-f83e-95248d1044db"
      },
      "execution_count": 67,
      "outputs": [
        {
          "output_type": "execute_result",
          "data": {
            "text/plain": [
              "(array([11, 12, 13, 14, 15, 16, 17, 18, 19, 20]),\n",
              " array([ 0,  2,  3,  4,  5,  6,  7, 12, 13, 14]))"
            ]
          },
          "metadata": {},
          "execution_count": 67
        }
      ]
    },
    {
      "cell_type": "code",
      "source": [
        "uv, uc = np.unique(a, return_counts=True)\n",
        "uv, uc"
      ],
      "metadata": {
        "colab": {
          "base_uri": "https://localhost:8080/"
        },
        "id": "4V6Vzo4DWD5C",
        "outputId": "b767fbae-d4ad-4fba-8fde-c84f769a9ee8"
      },
      "execution_count": 69,
      "outputs": [
        {
          "output_type": "execute_result",
          "data": {
            "text/plain": [
              "(array([11, 12, 13, 14, 15, 16, 17, 18, 19, 20]),\n",
              " array([3, 2, 2, 2, 1, 1, 1, 1, 1, 1]))"
            ]
          },
          "metadata": {},
          "execution_count": 69
        }
      ]
    },
    {
      "cell_type": "code",
      "source": [
        "# Transpose of an array\n",
        "arr = np.array([[1, 2], [3, 4], [5, 6]])\n",
        "print(arr.T)\n",
        "\n",
        "x = np.array([[1, 2, 3, 4], [5, 6, 7, 8], [9, 10, 11, 12]])\n",
        "\n",
        "x.flatten()"
      ],
      "metadata": {
        "colab": {
          "base_uri": "https://localhost:8080/"
        },
        "id": "8qCqxlp_Jixq",
        "outputId": "64ca77f6-3721-47dc-c48a-6568cefdca00"
      },
      "execution_count": 60,
      "outputs": [
        {
          "output_type": "stream",
          "name": "stdout",
          "text": [
            "[[1 3 5]\n",
            " [2 4 6]]\n"
          ]
        },
        {
          "output_type": "execute_result",
          "data": {
            "text/plain": [
              "array([ 1,  2,  3,  4,  5,  6,  7,  8,  9, 10, 11, 12])"
            ]
          },
          "metadata": {},
          "execution_count": 60
        }
      ]
    },
    {
      "cell_type": "markdown",
      "source": [
        "## pandas, matplotlit"
      ],
      "metadata": {
        "id": "b8jPYW_iUnPi"
      }
    },
    {
      "cell_type": "code",
      "source": [
        "########################\n",
        "# Pandas\n",
        "import numpy as np\n",
        "import pandas as pd\n",
        "\n",
        "x = pd.read_csv('countries.csv', header=0).values\n",
        "print(x)\n",
        "\n",
        "########################\n",
        "# matplotlib\n",
        "import matplotlib.pyplot as plt\n",
        "# %matplotlib inline\n",
        "\n",
        "X = [ \"Mon\", \"Tue\", \"Wed\", \"Thur\", \"Fri\",  \"Sat\", \"Sun\" ] \n",
        "Y1 = [15.6, 14.2, 16.3, 18.2, 17.1, 20.2, 22.4]\n",
        "Y2 = [20.1, 23.1, 23.8, 25.9, 23.4, 25.1, 26.3]\n",
        "\n",
        "plt.plot(X, Y1, label=\"Seoul\")\t\t# 분리시켜서 그려도 됨\n",
        "plt.plot(X, Y2, label=\"Busan\")\t\t# 분리시켜서 그려도 됨\n",
        "plt.xlabel(\"day\")\n",
        "plt.ylabel(\"temperature\")\n",
        "plt.legend(loc=\"upper left\")\n",
        "plt.title(\"Temperatures of Cities\")\n",
        "plt.show()\n",
        "\n",
        "\n",
        "import matplotlib.pyplot as plt\n",
        "# %matplotlib inline\n",
        "\n",
        "X = [ \"Mon\", \"Tue\", \"Wed\", \"Thur\", \"Fri\",  \"Sat\", \"Sun\" ] \n",
        "plt.plot(X, [15.6, 14.2, 16.3, 18.2, 17.1, 20.2, 22.4], \"sm\")\n",
        "plt.show()\n",
        "\n",
        "\n",
        "import matplotlib.pyplot as plt\n",
        "# %matplotlib inline\n",
        "\n",
        "X = [ \"Mon\", \"Tue\", \"Wed\", \"Thur\", \"Fri\",  \"Sat\", \"Sun\" ] \n",
        "Y = [15.6, 14.2, 16.3, 18.2, 17.1, 20.2, 22.4]\n",
        "plt.bar(X, Y)\n",
        "plt.show()\n",
        "\n",
        "\n",
        "\n",
        "import matplotlib.pyplot as plt\n",
        "import numpy as np\n",
        "\n",
        "numbers = np.random.normal(size=10000)\n",
        "\n",
        "plt.hist(numbers)\n",
        "plt.xlabel(\"value\")\n",
        "plt.ylabel(\"freq\")\n",
        "plt.show()\n",
        "\n",
        "\n",
        "import matplotlib.pyplot as plt\n",
        "import numpy as np\n",
        "X = np.arange(0, 10)\n",
        "Y = X**2\n",
        "plt.plot(X, Y)\n",
        "plt.show()\n",
        "\n",
        "\n",
        "X = np.arange(0, 10)\n",
        "Y1 = np.ones(10)\n",
        "Y2 = X \n",
        "Y3 = X**2 \n",
        "plt.plot(X, Y1, X, Y2, X, Y3)\n",
        "plt.show()\n",
        "\n",
        "\n",
        "import matplotlib.pyplot as plt \n",
        "import numpy as np \n",
        "  \n",
        "X = np.linspace(-10, 10, 101) \n",
        "Y = 1/(1 + np.exp(-X)) \n",
        "  \n",
        "plt.plot(X, Y) \n",
        "plt.xlabel(\"x\") \n",
        "plt.ylabel(\"Sigmoid(X)\") \n",
        "plt.show() \n",
        "\n",
        "\n",
        "import matplotlib.pyplot as plt\n",
        "import numpy as np\n",
        "\n",
        "def sigmoid(x):\n",
        "    s=1/(1+np.exp(-x))\n",
        "    ds=s*(1-s)  \t\t# 시그모이드 함수 1차 미분 함수\n",
        "    return s,ds\n",
        "\n",
        "X = np.linspace(-10, 10, 101) \n",
        "Y1, Y2 = sigmoid(X)\n",
        "  \n",
        "plt.plot(X, Y1, X, Y2) \n",
        "plt.xlabel(\"x\") \n",
        "plt.ylabel(\"Sigmoid(X), Sigmoid'(X)\") \n",
        "plt.show() \n"
      ],
      "metadata": {
        "id": "LZV0N8WFUjGa"
      },
      "execution_count": null,
      "outputs": []
    }
  ]
}