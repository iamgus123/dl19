{
  "nbformat": 4,
  "nbformat_minor": 0,
  "metadata": {
    "colab": {
      "provenance": [],
      "include_colab_link": true
    },
    "kernelspec": {
      "name": "python3",
      "display_name": "Python 3"
    },
    "language_info": {
      "name": "python"
    }
  },
  "cells": [
    {
      "cell_type": "markdown",
      "metadata": {
        "id": "view-in-github",
        "colab_type": "text"
      },
      "source": [
        "<a href=\"https://colab.research.google.com/github/iamgus123/dl19/blob/main/notebook/ch07_dataset_hyperparameter.ipynb\" target=\"_parent\"><img src=\"https://colab.research.google.com/assets/colab-badge.svg\" alt=\"Open In Colab\"/></a>"
      ]
    },
    {
      "cell_type": "markdown",
      "source": [
        "# Datasets\n",
        "\n",
        "# Hyperparameter selection"
      ],
      "metadata": {
        "id": "Clgcf6QMGKSJ"
      }
    },
    {
      "cell_type": "code",
      "execution_count": 1,
      "metadata": {
        "colab": {
          "base_uri": "https://localhost:8080/"
        },
        "id": "zRijNEEYGCLo",
        "outputId": "58b61e07-5193-47cf-cd3b-eed16b82f5dc"
      },
      "outputs": [
        {
          "output_type": "execute_result",
          "data": {
            "text/plain": [
              "((3, 2, 3), 3, dtype('int64'))"
            ]
          },
          "metadata": {},
          "execution_count": 1
        }
      ],
      "source": [
        "# datasets\n",
        "import numpy as np\n",
        "\n",
        "array = np.array([[[1, 2, 3], [4, 5, 6]], [[7, 8, 9], [10, 11, 12]], [[13, 14, 15], [16, 17, 18]]])\n",
        "array.shape, array.ndim, array.dtype\n"
      ]
    },
    {
      "cell_type": "code",
      "source": [
        "arr1 = np.empty((3, 4, 5, 6)) # zeros(), ones()\n",
        "arr1.shape\n"
      ],
      "metadata": {
        "colab": {
          "base_uri": "https://localhost:8080/"
        },
        "id": "tBIRr3SfGfox",
        "outputId": "34aeca4c-79a7-4da0-c279-d4b1b2a04aee"
      },
      "execution_count": 2,
      "outputs": [
        {
          "output_type": "execute_result",
          "data": {
            "text/plain": [
              "(3, 4, 5, 6)"
            ]
          },
          "metadata": {},
          "execution_count": 2
        }
      ]
    },
    {
      "cell_type": "code",
      "source": [
        "# vector records\n",
        "arr2 = np.random.randn(500,8) # \n",
        "arr2.shape\n"
      ],
      "metadata": {
        "colab": {
          "base_uri": "https://localhost:8080/"
        },
        "id": "l0ybQIZ8G3rx",
        "outputId": "946a56d9-671a-4cf4-fdeb-afc2e5e2161a"
      },
      "execution_count": 3,
      "outputs": [
        {
          "output_type": "execute_result",
          "data": {
            "text/plain": [
              "(500, 8)"
            ]
          },
          "metadata": {},
          "execution_count": 3
        }
      ]
    },
    {
      "cell_type": "code",
      "source": [
        "# color images\n",
        "arr3 = np.empty((60000,28,28,3)) #\n",
        "arr3.shape\n"
      ],
      "metadata": {
        "colab": {
          "base_uri": "https://localhost:8080/"
        },
        "id": "Dx6GIhvFHCSa",
        "outputId": "ee81380b-d02b-43f2-c343-d6940a7f8c1c"
      },
      "execution_count": 4,
      "outputs": [
        {
          "output_type": "execute_result",
          "data": {
            "text/plain": [
              "(60000, 28, 28, 3)"
            ]
          },
          "metadata": {},
          "execution_count": 4
        }
      ]
    },
    {
      "cell_type": "code",
      "source": [
        "# time series\n",
        "arr4 = np.random.randn(20,365,4) # \n",
        "arr4.shape\n"
      ],
      "metadata": {
        "colab": {
          "base_uri": "https://localhost:8080/"
        },
        "id": "TCp8p5dYHLMZ",
        "outputId": "353baa95-a940-490c-95aa-c6c3d8bef372"
      },
      "execution_count": 5,
      "outputs": [
        {
          "output_type": "execute_result",
          "data": {
            "text/plain": [
              "(20, 365, 4)"
            ]
          },
          "metadata": {},
          "execution_count": 5
        }
      ]
    },
    {
      "cell_type": "markdown",
      "source": [
        "---\n",
        "---"
      ],
      "metadata": {
        "id": "lOd58jyHHbOB"
      }
    },
    {
      "cell_type": "markdown",
      "source": [
        "## Hyperparameter search\n",
        "- epochs\n",
        "- batch-size"
      ],
      "metadata": {
        "id": "AOQF5LVBO7VK"
      }
    },
    {
      "cell_type": "code",
      "source": [
        "!pip install scikeras"
      ],
      "metadata": {
        "colab": {
          "base_uri": "https://localhost:8080/"
        },
        "id": "Mruv57rBPMdA",
        "outputId": "7e021f7b-15b2-45e0-e525-49fb843939e0"
      },
      "execution_count": 11,
      "outputs": [
        {
          "output_type": "stream",
          "name": "stdout",
          "text": [
            "Looking in indexes: https://pypi.org/simple, https://us-python.pkg.dev/colab-wheels/public/simple/\n",
            "Collecting scikeras\n",
            "  Downloading scikeras-0.10.0-py3-none-any.whl (27 kB)\n",
            "Requirement already satisfied: packaging>=0.21 in /usr/local/lib/python3.10/dist-packages (from scikeras) (23.1)\n",
            "Requirement already satisfied: scikit-learn>=1.0.0 in /usr/local/lib/python3.10/dist-packages (from scikeras) (1.2.2)\n",
            "Requirement already satisfied: numpy>=1.17.3 in /usr/local/lib/python3.10/dist-packages (from scikit-learn>=1.0.0->scikeras) (1.22.4)\n",
            "Requirement already satisfied: scipy>=1.3.2 in /usr/local/lib/python3.10/dist-packages (from scikit-learn>=1.0.0->scikeras) (1.10.1)\n",
            "Requirement already satisfied: joblib>=1.1.1 in /usr/local/lib/python3.10/dist-packages (from scikit-learn>=1.0.0->scikeras) (1.2.0)\n",
            "Requirement already satisfied: threadpoolctl>=2.0.0 in /usr/local/lib/python3.10/dist-packages (from scikit-learn>=1.0.0->scikeras) (3.1.0)\n",
            "Installing collected packages: scikeras\n",
            "Successfully installed scikeras-0.10.0\n"
          ]
        }
      ]
    },
    {
      "cell_type": "code",
      "source": [
        "# import numpy as np \n",
        "# import matplotlib.pyplot as plt \n",
        "import tensorflow as tf\n",
        "from sklearn.model_selection import GridSearchCV\n",
        "# from tensorflow.keras.wrappers.scikit_learn import KerasClassifier\n",
        "from scikeras.wrappers import KerasClassifier\n",
        "# OS warning cure\n",
        "import os\n",
        "os.environ['TF_CPP_MIN_LOG_LEVEL'] = '3'\n",
        "\n",
        "# 데이터 세트 준비\n",
        "(train_images, train_labels), (test_images, test_labels) = tf.keras.datasets.mnist.load_data()\n",
        "\n",
        "train_images = train_images.reshape((60000, 28 * 28))\n",
        "train_images = train_images.astype('float32') / 255\n",
        "\n",
        "test_images = test_images.reshape((10000, 28 * 28))\n",
        "test_images = test_images.astype('float32') / 255\n",
        "\n",
        "train_labels = tf.keras.utils.to_categorical(train_labels)\n",
        "test_labels = tf.keras.utils.to_categorical(test_labels)\n",
        "                             \n",
        "# 신경망 모델 구축\n",
        "def build_model():\n",
        "    network = tf.keras.models.Sequential()\n",
        "    network.add(tf.keras.layers.Dense(512, activation='relu', input_shape=(28 * 28,)))\n",
        "    network.add(tf.keras.layers.Dense(10, activation='sigmoid'))\n",
        "\n",
        "    network.compile(optimizer='rmsprop',\n",
        "                loss='categorical_crossentropy',\n",
        "                metrics=['accuracy'])\n",
        "    return network\n",
        "\n",
        "# 하이퍼 매개변수 딕셔너리\n",
        "param_grid = {\n",
        "              'epochs':[1, 2, 3],\t# 에포크 수: 1, 2, 3\n",
        "              'batch_size':[32, 64, 100]\t# 배치 크기: 32, 64, 100\n",
        "             }\n",
        "\n",
        "# 케라스 모델을 scikeras에서 사용하도록 포장한다. \n",
        "model = KerasClassifier(model = build_model, verbose=1)\n",
        "\n",
        "## Elapsed time start\n",
        "import time\n",
        "start = time.time()\n",
        "\n",
        "# 그리드 검색\n",
        "gs = GridSearchCV(\n",
        "    estimator=model,\n",
        "    param_grid=param_grid, \n",
        "    cv=3, \n",
        "    # n_jobs=-1 # comment this line to avoid out-of-memory\n",
        ")\n",
        "\n",
        "# 그리드 검색 결과 출력\n",
        "grid_result = gs.fit(train_images, train_labels)\n",
        "\n",
        "## Elapsed time end\n",
        "end = time.time()\n",
        "print('Elapsed time:', end - start) # Elapsed time: 122.5, 189.5\n",
        "\n",
        "print(grid_result.best_score_) # 0.9725, 0.9711\n",
        "print(grid_result.best_params_) # {'batch_size': 64, 'epochs': 3}\n"
      ],
      "metadata": {
        "colab": {
          "base_uri": "https://localhost:8080/"
        },
        "id": "QNIJCvZtHdiy",
        "outputId": "1180c0e3-f82f-41ba-d77c-c63814f3dae0"
      },
      "execution_count": 12,
      "outputs": [
        {
          "output_type": "stream",
          "name": "stdout",
          "text": [
            "1250/1250 [==============================] - 15s 10ms/step - loss: 0.2429 - accuracy: 0.9279\n",
            "625/625 [==============================] - 1s 2ms/step\n",
            "1250/1250 [==============================] - 8s 6ms/step - loss: 0.2345 - accuracy: 0.9311\n",
            "625/625 [==============================] - 1s 2ms/step\n",
            "1250/1250 [==============================] - 8s 6ms/step - loss: 0.2411 - accuracy: 0.9288\n",
            "625/625 [==============================] - 1s 2ms/step\n",
            "Epoch 1/2\n",
            "1250/1250 [==============================] - 9s 6ms/step - loss: 0.2446 - accuracy: 0.9271\n",
            "Epoch 2/2\n",
            "1250/1250 [==============================] - 7s 6ms/step - loss: 0.1022 - accuracy: 0.9691\n",
            "625/625 [==============================] - 1s 2ms/step\n",
            "Epoch 1/2\n",
            "1250/1250 [==============================] - 8s 6ms/step - loss: 0.2386 - accuracy: 0.9288\n",
            "Epoch 2/2\n",
            "1250/1250 [==============================] - 8s 6ms/step - loss: 0.0988 - accuracy: 0.9702\n",
            "625/625 [==============================] - 1s 2ms/step\n",
            "Epoch 1/2\n",
            "1250/1250 [==============================] - 8s 6ms/step - loss: 0.2383 - accuracy: 0.9307\n",
            "Epoch 2/2\n",
            "1250/1250 [==============================] - 8s 6ms/step - loss: 0.0977 - accuracy: 0.9701\n",
            "625/625 [==============================] - 1s 2ms/step\n",
            "Epoch 1/3\n",
            "1250/1250 [==============================] - 9s 6ms/step - loss: 0.2430 - accuracy: 0.9280\n",
            "Epoch 2/3\n",
            "1250/1250 [==============================] - 8s 6ms/step - loss: 0.1033 - accuracy: 0.9692\n",
            "Epoch 3/3\n",
            "1250/1250 [==============================] - 7s 6ms/step - loss: 0.0679 - accuracy: 0.9794\n",
            "625/625 [==============================] - 1s 2ms/step\n",
            "Epoch 1/3\n",
            "1250/1250 [==============================] - 11s 8ms/step - loss: 0.2379 - accuracy: 0.9301\n",
            "Epoch 2/3\n",
            "1250/1250 [==============================] - 8s 6ms/step - loss: 0.1018 - accuracy: 0.9689\n",
            "Epoch 3/3\n",
            "1250/1250 [==============================] - 7s 6ms/step - loss: 0.0674 - accuracy: 0.9795\n",
            "625/625 [==============================] - 1s 2ms/step\n",
            "Epoch 1/3\n",
            "1250/1250 [==============================] - 8s 6ms/step - loss: 0.2401 - accuracy: 0.9284\n",
            "Epoch 2/3\n",
            "1250/1250 [==============================] - 8s 6ms/step - loss: 0.0979 - accuracy: 0.9716\n",
            "Epoch 3/3\n",
            "1250/1250 [==============================] - 9s 7ms/step - loss: 0.0660 - accuracy: 0.9807\n",
            "625/625 [==============================] - 1s 2ms/step\n",
            "625/625 [==============================] - 6s 8ms/step - loss: 0.2696 - accuracy: 0.9215\n",
            "313/313 [==============================] - 1s 2ms/step\n",
            "625/625 [==============================] - 5s 7ms/step - loss: 0.2642 - accuracy: 0.9237\n",
            "313/313 [==============================] - 1s 3ms/step\n",
            "625/625 [==============================] - 6s 8ms/step - loss: 0.2685 - accuracy: 0.9218\n",
            "313/313 [==============================] - 1s 3ms/step\n",
            "Epoch 1/2\n",
            "625/625 [==============================] - 5s 7ms/step - loss: 0.2746 - accuracy: 0.9196\n",
            "Epoch 2/2\n",
            "625/625 [==============================] - 5s 8ms/step - loss: 0.1144 - accuracy: 0.9653\n",
            "313/313 [==============================] - 1s 2ms/step\n",
            "Epoch 1/2\n",
            "625/625 [==============================] - 5s 7ms/step - loss: 0.2666 - accuracy: 0.9225\n",
            "Epoch 2/2\n",
            "625/625 [==============================] - 5s 8ms/step - loss: 0.1108 - accuracy: 0.9669\n",
            "313/313 [==============================] - 1s 4ms/step\n",
            "Epoch 1/2\n",
            "625/625 [==============================] - 5s 7ms/step - loss: 0.2707 - accuracy: 0.9204\n",
            "Epoch 2/2\n",
            "625/625 [==============================] - 5s 8ms/step - loss: 0.1100 - accuracy: 0.9668\n",
            "313/313 [==============================] - 1s 3ms/step\n",
            "Epoch 1/3\n",
            "625/625 [==============================] - 5s 7ms/step - loss: 0.2678 - accuracy: 0.9218\n",
            "Epoch 2/3\n",
            "625/625 [==============================] - 5s 8ms/step - loss: 0.1130 - accuracy: 0.9664\n",
            "Epoch 3/3\n",
            "625/625 [==============================] - 5s 8ms/step - loss: 0.0742 - accuracy: 0.9777\n",
            "313/313 [==============================] - 1s 3ms/step\n",
            "Epoch 1/3\n",
            "625/625 [==============================] - 6s 9ms/step - loss: 0.2664 - accuracy: 0.9209\n",
            "Epoch 2/3\n",
            "625/625 [==============================] - 5s 8ms/step - loss: 0.1109 - accuracy: 0.9672\n",
            "Epoch 3/3\n",
            "625/625 [==============================] - 4s 7ms/step - loss: 0.0713 - accuracy: 0.9783\n",
            "313/313 [==============================] - 1s 3ms/step\n",
            "Epoch 1/3\n",
            "625/625 [==============================] - 5s 7ms/step - loss: 0.2678 - accuracy: 0.9214\n",
            "Epoch 2/3\n",
            "625/625 [==============================] - 5s 8ms/step - loss: 0.1108 - accuracy: 0.9665\n",
            "Epoch 3/3\n",
            "625/625 [==============================] - 4s 7ms/step - loss: 0.0705 - accuracy: 0.9789\n",
            "313/313 [==============================] - 1s 4ms/step\n",
            "400/400 [==============================] - 4s 8ms/step - loss: 0.3029 - accuracy: 0.9123\n",
            "200/200 [==============================] - 1s 3ms/step\n",
            "400/400 [==============================] - 4s 8ms/step - loss: 0.2948 - accuracy: 0.9154\n",
            "200/200 [==============================] - 1s 3ms/step\n",
            "400/400 [==============================] - 4s 8ms/step - loss: 0.2927 - accuracy: 0.9158\n",
            "200/200 [==============================] - 1s 3ms/step\n",
            "Epoch 1/2\n",
            "400/400 [==============================] - 4s 9ms/step - loss: 0.3000 - accuracy: 0.9121\n",
            "Epoch 2/2\n",
            "400/400 [==============================] - 4s 9ms/step - loss: 0.1287 - accuracy: 0.9626\n",
            "200/200 [==============================] - 1s 3ms/step\n",
            "Epoch 1/2\n",
            "400/400 [==============================] - 4s 8ms/step - loss: 0.2951 - accuracy: 0.9157\n",
            "Epoch 2/2\n",
            "400/400 [==============================] - 3s 8ms/step - loss: 0.1250 - accuracy: 0.9636\n",
            "200/200 [==============================] - 1s 3ms/step\n",
            "Epoch 1/2\n",
            "400/400 [==============================] - 4s 8ms/step - loss: 0.2980 - accuracy: 0.9142\n",
            "Epoch 2/2\n",
            "400/400 [==============================] - 4s 9ms/step - loss: 0.1217 - accuracy: 0.9642\n",
            "200/200 [==============================] - 1s 3ms/step\n",
            "Epoch 1/3\n",
            "400/400 [==============================] - 4s 8ms/step - loss: 0.2980 - accuracy: 0.9144\n",
            "Epoch 2/3\n",
            "400/400 [==============================] - 3s 8ms/step - loss: 0.1295 - accuracy: 0.9618\n",
            "Epoch 3/3\n",
            "400/400 [==============================] - 4s 10ms/step - loss: 0.0842 - accuracy: 0.9746\n",
            "200/200 [==============================] - 1s 3ms/step\n",
            "Epoch 1/3\n",
            "400/400 [==============================] - 4s 8ms/step - loss: 0.2938 - accuracy: 0.9164\n",
            "Epoch 2/3\n",
            "400/400 [==============================] - 3s 8ms/step - loss: 0.1235 - accuracy: 0.9643\n",
            "Epoch 3/3\n",
            "400/400 [==============================] - 4s 9ms/step - loss: 0.0816 - accuracy: 0.9754\n",
            "200/200 [==============================] - 1s 5ms/step\n",
            "Epoch 1/3\n",
            "400/400 [==============================] - 5s 9ms/step - loss: 0.2975 - accuracy: 0.9133\n",
            "Epoch 2/3\n",
            "400/400 [==============================] - 4s 11ms/step - loss: 0.1231 - accuracy: 0.9641\n",
            "Epoch 3/3\n",
            "400/400 [==============================] - 5s 12ms/step - loss: 0.0802 - accuracy: 0.9769\n",
            "200/200 [==============================] - 1s 3ms/step\n",
            "Epoch 1/3\n",
            "1875/1875 [==============================] - 12s 6ms/step - loss: 0.2005 - accuracy: 0.9406\n",
            "Epoch 2/3\n",
            "1875/1875 [==============================] - 13s 7ms/step - loss: 0.0850 - accuracy: 0.9746\n",
            "Epoch 3/3\n",
            "1875/1875 [==============================] - 12s 7ms/step - loss: 0.0585 - accuracy: 0.9821\n",
            "Elapsed time: 485.5251269340515\n",
            "0.9708666666666667\n",
            "{'batch_size': 32, 'epochs': 3}\n"
          ]
        }
      ]
    }
  ]
}